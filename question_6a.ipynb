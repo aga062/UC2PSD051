{
 "cells": [
  {
   "cell_type": "code",
   "execution_count": 17,
   "metadata": {},
   "outputs": [],
   "source": [
    "import random\n",
    "import time"
   ]
  },
  {
   "cell_type": "code",
   "execution_count": 18,
   "metadata": {},
   "outputs": [],
   "source": [
    "class RandomNumber:\n",
    "    def __init__(self, minRange,  maxRange, amount) -> None:\n",
    "        self.minRange = minRange\n",
    "        self.maxRange = maxRange\n",
    "        self.amount = amount\n",
    "\n",
    "    def generates_random_num(self):\n",
    "        random_nums = random.sample(range(self.minRange, self.maxRange), self.amount)\n",
    "        print(f'Number of randoms returned are: {len(random_nums)}')\n",
    "        for number in random_nums:\n",
    "            print(number)\n",
    "            time.sleep(0.7)\n",
    "            "
   ]
  },
  {
   "cell_type": "code",
   "execution_count": 19,
   "metadata": {},
   "outputs": [
    {
     "name": "stdout",
     "output_type": "stream",
     "text": [
      "Number of randoms returned are: 7\n",
      "913\n",
      "630\n",
      "278\n",
      "998\n",
      "733\n",
      "158\n",
      "408\n"
     ]
    }
   ],
   "source": [
    "rand_nums = RandomNumber(100,1000,7)\n",
    "rand_nums.generates_random_num()"
   ]
  }
 ],
 "metadata": {
  "kernelspec": {
   "display_name": "Python 3.8.8 ('base')",
   "language": "python",
   "name": "python3"
  },
  "language_info": {
   "codemirror_mode": {
    "name": "ipython",
    "version": 3
   },
   "file_extension": ".py",
   "mimetype": "text/x-python",
   "name": "python",
   "nbconvert_exporter": "python",
   "pygments_lexer": "ipython3",
   "version": "3.8.8"
  },
  "orig_nbformat": 4,
  "vscode": {
   "interpreter": {
    "hash": "a03bd04ed9d1b3bdc96446a8efeab8c66f0021ee554dbe68aeaef4a9fcd893d9"
   }
  }
 },
 "nbformat": 4,
 "nbformat_minor": 2
}
